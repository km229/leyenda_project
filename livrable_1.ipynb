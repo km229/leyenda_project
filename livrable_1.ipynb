{
 "cells": [
  {
   "cell_type": "markdown",
   "source": [
    "Livrable 1"
   ],
   "metadata": {
    "collapsed": false
   }
  },
  {
   "cell_type": "markdown",
   "source": [
    "Ajout des dépendances"
   ],
   "metadata": {
    "collapsed": false
   }
  },
  {
   "cell_type": "code",
   "execution_count": 1,
   "metadata": {
    "collapsed": true
   },
   "outputs": [],
   "source": [
    "# TensorFlow and tf.keras\n",
    "import tensorflow as tf\n",
    "\n",
    "# Helper libraries\n",
    "import numpy as np\n",
    "import matplotlib.pyplot as plt\n",
    "import os\n",
    "import numpy as np"
   ]
  },
  {
   "cell_type": "markdown",
   "source": [
    "Chargement des données"
   ],
   "metadata": {
    "collapsed": false
   }
  },
  {
   "cell_type": "code",
   "execution_count": null,
   "outputs": [],
   "source": [
    "#Paramètres\n",
    "\n",
    "batch_size = 32\n",
    "img_height = 180\n",
    "img_width = 180"
   ],
   "metadata": {
    "collapsed": false,
    "pycharm": {
     "name": "#%%\n"
    }
   }
  },
  {
   "cell_type": "code",
   "execution_count": 10,
   "outputs": [
    {
     "name": "stdout",
     "output_type": "stream",
     "text": [
      "Found 41556 files belonging to 8 classes.\n",
      "Using 33245 files for training.\n"
     ]
    }
   ],
   "source": [
    "dataset_train_dir = tf.keras.utils.image_dataset_from_directory(\n",
    "    directory='./data',\n",
    "    labels='inferred',\n",
    "    label_mode='categorical',\n",
    "    batch_size=32,\n",
    "    subset='training',\n",
    "    seed=1,\n",
    "    validation_split=0.2)\n",
    "\n",
    "dataset_val_dir = tf.keras.utils.image_dataset_from_directory(\n",
    "    directory='Dataset/',\n",
    "    labels='inferred',\n",
    "    label_mode='categorical',\n",
    "    batch_size=32,\n",
    "    subset='validation',\n",
    "    seed=1,\n",
    "    validation_split=0.2,\n",
    "    image_size=(256, 256))\n",
    "\n",
    "# photo_dir =\n",
    "# schematics_dir =\n",
    "# sketch_dir =\n",
    "# text_dir ="
   ],
   "metadata": {
    "collapsed": false,
    "pycharm": {
     "name": "#%%\n"
    }
   }
  }
 ],
 "metadata": {
  "kernelspec": {
   "display_name": "Python 3",
   "language": "python",
   "name": "python3"
  },
  "language_info": {
   "codemirror_mode": {
    "name": "ipython",
    "version": 2
   },
   "file_extension": ".py",
   "mimetype": "text/x-python",
   "name": "python",
   "nbconvert_exporter": "python",
   "pygments_lexer": "ipython2",
   "version": "2.7.6"
  }
 },
 "nbformat": 4,
 "nbformat_minor": 0
}